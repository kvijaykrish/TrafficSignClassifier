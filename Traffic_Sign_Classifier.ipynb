{
 "cells": [
  {
   "cell_type": "markdown",
   "metadata": {
    "deletable": true,
    "editable": true
   },
   "source": [
    "# Self-Driving Car Engineer Nanodegree\n",
    "\n",
    "## Deep Learning\n",
    "\n",
    "## Project: Build a Traffic Sign Recognition Classifier\n",
    "\n",
    "In this notebook, a template is provided for you to implement your functionality in stages, which is required to successfully complete this project. If additional code is required that cannot be included in the notebook, be sure that the Python code is successfully imported and included in your submission if necessary. \n",
    "\n",
    "> **Note**: Once you have completed all of the code implementations, you need to finalize your work by exporting the iPython Notebook as an HTML document. Before exporting the notebook to html, all of the code cells need to have been run so that reviewers can see the final implementation and output. You can then export the notebook by using the menu above and navigating to  \\n\",\n",
    "    \"**File -> Download as -> HTML (.html)**. Include the finished document along with this notebook as your submission. \n",
    "\n",
    "In addition to implementing code, there is a writeup to complete. The writeup should be completed in a separate file, which can be either a markdown file or a pdf document. There is a [write up template](https://github.com/udacity/CarND-Traffic-Sign-Classifier-Project/blob/master/writeup_template.md) that can be used to guide the writing process. Completing the code template and writeup template will cover all of the [rubric points](https://review.udacity.com/#!/rubrics/481/view) for this project.\n",
    "\n",
    "The [rubric](https://review.udacity.com/#!/rubrics/481/view) contains \"Stand Out Suggestions\" for enhancing the project beyond the minimum requirements. The stand out suggestions are optional. If you decide to pursue the \"stand out suggestions\", you can include the code in this Ipython notebook and also discuss the results in the writeup file.\n",
    "\n",
    "\n",
    ">**Note:** Code and Markdown cells can be executed using the **Shift + Enter** keyboard shortcut. In addition, Markdown cells can be edited by typically double-clicking the cell to enter edit mode."
   ]
  },
  {
   "cell_type": "markdown",
   "metadata": {
    "deletable": true,
    "editable": true
   },
   "source": [
    "---\n",
    "## Step 0: Load The Data"
   ]
  },
  {
   "cell_type": "code",
   "execution_count": 1,
   "metadata": {
    "collapsed": false,
    "deletable": true,
    "editable": true
   },
   "outputs": [],
   "source": [
    "# Load pickled data\n",
    "import pickle\n",
    "\n",
    "# TODO: Fill this in based on where you saved the training and testing data\n",
    "\n",
    "training_file = '..//traffic-signs-data//train.p'\n",
    "validation_file= '..//traffic-signs-data//valid.p'\n",
    "testing_file = '..//traffic-signs-data//test.p'\n",
    "\n",
    "with open(training_file, mode='rb') as f:\n",
    "    train = pickle.load(f)\n",
    "with open(validation_file, mode='rb') as f:\n",
    "    valid = pickle.load(f)\n",
    "with open(testing_file, mode='rb') as f:\n",
    "    test = pickle.load(f)\n",
    "    \n",
    "X_train, y_train = train['features'], train['labels']\n",
    "X_valid, y_valid = valid['features'], valid['labels']\n",
    "X_test, y_test = test['features'], test['labels']"
   ]
  },
  {
   "cell_type": "markdown",
   "metadata": {
    "deletable": true,
    "editable": true
   },
   "source": [
    "---\n",
    "\n",
    "## Step 1: Dataset Summary & Exploration\n",
    "\n",
    "The pickled data is a dictionary with 4 key/value pairs:\n",
    "\n",
    "- `'features'` is a 4D array containing raw pixel data of the traffic sign images, (num examples, width, height, channels).\n",
    "- `'labels'` is a 1D array containing the label/class id of the traffic sign. The file `signnames.csv` contains id -> name mappings for each id.\n",
    "- `'sizes'` is a list containing tuples, (width, height) representing the original width and height the image.\n",
    "- `'coords'` is a list containing tuples, (x1, y1, x2, y2) representing coordinates of a bounding box around the sign in the image. **THESE COORDINATES ASSUME THE ORIGINAL IMAGE. THE PICKLED DATA CONTAINS RESIZED VERSIONS (32 by 32) OF THESE IMAGES**\n",
    "\n",
    "Complete the basic data summary below. Use python, numpy and/or pandas methods to calculate the data summary rather than hard coding the results. For example, the [pandas shape method](http://pandas.pydata.org/pandas-docs/stable/generated/pandas.DataFrame.shape.html) might be useful for calculating some of the summary results. "
   ]
  },
  {
   "cell_type": "markdown",
   "metadata": {
    "deletable": true,
    "editable": true
   },
   "source": [
    "### Provide a Basic Summary of the Data Set Using Python, Numpy and/or Pandas"
   ]
  },
  {
   "cell_type": "code",
   "execution_count": 2,
   "metadata": {
    "collapsed": false,
    "deletable": true,
    "editable": true
   },
   "outputs": [
    {
     "name": "stdout",
     "output_type": "stream",
     "text": [
      "Number of training examples = 34799\n",
      "Number of testing examples = 12630\n",
      "Image data shape = (32, 32, 3)\n",
      "Number of classes = 43\n"
     ]
    }
   ],
   "source": [
    "### Replace each question mark with the appropriate value. \n",
    "### Use python, pandas or numpy methods rather than hard coding the results\n",
    "\n",
    "# TODO: Number of training examples\n",
    "n_train = len(X_train)\n",
    "\n",
    "# TODO: Number of testing examples.\n",
    "n_test = len(X_test)\n",
    "\n",
    "# TODO: What's the shape of an traffic sign image?\n",
    "image_shape = X_train[0].shape\n",
    "\n",
    "traffic_sign_name = []\n",
    "import csv\n",
    "with open('signnames.csv', 'r') as csvfile:\n",
    "    csvreader = csv.reader(csvfile, delimiter=',', quotechar='|')\n",
    "    for row in csvreader:\n",
    "        if (csvreader.line_num > 1):\n",
    "            traffic_sign_name.append(row)\n",
    "    #print (traffic_sign_name)\n",
    "    # TODO: How many unique classes/labels there are in the dataset.\n",
    "    n_classes = csvreader.line_num - 1\n",
    "\n",
    "print(\"Number of training examples =\", n_train)\n",
    "print(\"Number of testing examples =\", n_test)\n",
    "print(\"Image data shape =\", image_shape)\n",
    "print(\"Number of classes =\", n_classes)"
   ]
  },
  {
   "cell_type": "markdown",
   "metadata": {
    "deletable": true,
    "editable": true
   },
   "source": [
    "### Include an exploratory visualization of the dataset"
   ]
  },
  {
   "cell_type": "markdown",
   "metadata": {
    "deletable": true,
    "editable": true
   },
   "source": [
    "Visualize the German Traffic Signs Dataset using the pickled file(s). This is open ended, suggestions include: plotting traffic sign images, plotting the count of each sign, etc.\n",
    "\n",
    "The [Matplotlib](http://matplotlib.org/) [examples](http://matplotlib.org/examples/index.html) and [gallery](http://matplotlib.org/gallery.html) pages are a great resource for doing visualizations in Python.\n",
    "\n",
    "**NOTE:** It's recommended you start with something simple first. If you wish to do more, come back to it after you've completed the rest of the sections."
   ]
  },
  {
   "cell_type": "code",
   "execution_count": 3,
   "metadata": {
    "collapsed": false,
    "deletable": true,
    "editable": true
   },
   "outputs": [
    {
     "name": "stdout",
     "output_type": "stream",
     "text": [
      "[180, 1980, 2010, 1260, 1770, 1650, 360, 1290, 1260, 1320, 1800, 1170, 1890, 1920, 690, 540, 360, 990, 1080, 180, 300, 270, 330, 450, 240, 1350, 540, 210, 480, 240, 390, 690, 210, 599, 360, 1080, 330, 180, 1860, 270, 300, 209, 210]\n"
     ]
    },
    {
     "data": {
      "image/png": "[encoded data removed]",
      "text/plain": [
       "<matplotlib.figure.Figure at 0x7fca8846f9e8>"
      ]
     },
     "metadata": {},
     "output_type": "display_data"
    }
   ],
   "source": [
    "### Data exploration visualization code goes here.\n",
    "### Feel free to use as many code cells as needed.\n",
    "import matplotlib.pyplot as plt\n",
    "import random\n",
    "import numpy as np\n",
    "\n",
    "# Visualizations will be shown in the notebook.\n",
    "%matplotlib inline\n",
    "\n",
    "hist = [0 for j in range(0,n_classes)]\n",
    "\n",
    "#Count each sign\n",
    "for i in range(1,len(X_train)):\n",
    "    if (y_train[i] < n_classes):\n",
    "        hist[y_train[i]] += 1\n",
    "\n",
    "#plot the count of each sign       \n",
    "plt.figure(figsize=(10,10))\n",
    "pltx = np.arange(0, n_classes, 1)\n",
    "plty = hist\n",
    "plt.plot(pltx,plty)        \n",
    "print(hist)"
   ]
  },
  {
   "cell_type": "code",
   "execution_count": 4,
   "metadata": {
    "collapsed": false,
    "deletable": true,
    "editable": true
   },
   "outputs": [
    {
     "name": "stdout",
     "output_type": "stream",
     "text": [
      "<class 'numpy.ndarray'> (34799, 32, 32, 3)\n",
      "<class 'numpy.ndarray'> (34799,)\n"
     ]
    },
    {
     "data": {
      "image/png": "[encoded data removed]",
      "text/plain": [
       "<matplotlib.figure.Figure at 0x7fca66ec1eb8>"
      ]
     },
     "metadata": {},
     "output_type": "display_data"
    }
   ],
   "source": [
    "import random\n",
    "import numpy as np\n",
    "import matplotlib.pyplot as plt\n",
    "%matplotlib inline\n",
    "\n",
    "index = random.randint(0, len(X_train))\n",
    "image = X_train[index].squeeze()\n",
    "\n",
    "plt.figure(figsize=(1,1))\n",
    "plt.imshow(image)\n",
    "\n",
    "print(type(X_train), X_train.shape )\n",
    "print(type(y_train), y_train.shape)\n",
    "\n"
   ]
  },
  {
   "cell_type": "markdown",
   "metadata": {
    "deletable": true,
    "editable": true
   },
   "source": [
    "----\n",
    "\n",
    "## Step 2: Design and Test a Model Architecture\n",
    "\n",
    "Design and implement a deep learning model that learns to recognize traffic signs. Train and test your model on the [German Traffic Sign Dataset](http://benchmark.ini.rub.de/?section=gtsrb&subsection=dataset).\n",
    "\n",
    "There are various aspects to consider when thinking about this problem:\n",
    "\n",
    "- Neural network architecture\n",
    "- Play around preprocessing techniques (normalization, rgb to grayscale, etc)\n",
    "- Number of examples per label (some have more than others).\n",
    "- Generate fake data.\n",
    "\n",
    "Here is an example of a [published baseline model on this problem](http://yann.lecun.com/exdb/publis/pdf/sermanet-ijcnn-11.pdf). It's not required to be familiar with the approach used in the paper but, it's good practice to try to read papers like these.\n",
    "\n",
    "**NOTE:** The LeNet-5 implementation shown in the [classroom](https://classroom.udacity.com/nanodegrees/nd013/parts/fbf77062-5703-404e-b60c-95b78b2f3f9e/modules/6df7ae49-c61c-4bb2-a23e-6527e69209ec/lessons/601ae704-1035-4287-8b11-e2c2716217ad/concepts/d4aca031-508f-4e0b-b493-e7b706120f81) at the end of the CNN lesson is a solid starting point. You'll have to change the number of classes and possibly the preprocessing, but aside from that it's plug and play!"
   ]
  },
  {
   "cell_type": "markdown",
   "metadata": {
    "deletable": true,
    "editable": true
   },
   "source": [
    "### Pre-process the Data Set (normalization, grayscale, etc.)"
   ]
  },
  {
   "cell_type": "markdown",
   "metadata": {
    "deletable": true,
    "editable": true
   },
   "source": [
    "Use the code cell (or multiple code cells, if necessary) to implement the first step of your project."
   ]
  },
  {
   "cell_type": "code",
   "execution_count": 5,
   "metadata": {
    "collapsed": false,
    "deletable": true,
    "editable": true
   },
   "outputs": [],
   "source": [
    "# Problem 1 - Implement Min-Max scaling for grayscale image data\n",
    "def preprocess_image(image_data):\n",
    "\n",
    "    img_grey = cv2.cvtColor(image_data, cv2.COLOR_RGB2GRAY)\n",
    "    img_grey.resize(32,32,1)\n",
    "    \"\"\"\n",
    "    Normalize the image data with Min-Max scaling to a range of [0.1, 0.9]\n",
    "    :param image_data: The image data to be normalized\n",
    "    :return: Normalized image data\n",
    "    \"\"\"\n",
    "    # TODO: Implement Min-Max scaling for grayscale image data\n",
    "    a = 0.1\n",
    "    b = 0.9\n",
    "    grayscale_min = 0\n",
    "    grayscale_max = 255\n",
    "    return a + ( ( (img_grey - grayscale_min)*(b - a) )/( grayscale_max - grayscale_min ) )\n",
    "    #return(image_data)\n",
    "\n"
   ]
  },
  {
   "cell_type": "code",
   "execution_count": 6,
   "metadata": {
    "collapsed": false,
    "deletable": true,
    "editable": true
   },
   "outputs": [
    {
     "name": "stdout",
     "output_type": "stream",
     "text": [
      "(32, 32, 3)\n",
      "(32, 32, 1)\n"
     ]
    },
    {
     "data": {
      "text/plain": [
       "<matplotlib.image.AxesImage at 0x7fca4d370ba8>"
      ]
     },
     "execution_count": 6,
     "metadata": {},
     "output_type": "execute_result"
    },
    {
     "data": {
      "image/png": "[encoded data removed]",
      "text/plain": [
       "<matplotlib.figure.Figure at 0x7fca66c4d0f0>"
      ]
     },
     "metadata": {},
     "output_type": "display_data"
    },
    {
     "data": {
      "image/png": "[encoded data removed]",
      "text/plain": [
       "<matplotlib.figure.Figure at 0x7fca668752e8>"
      ]
     },
     "metadata": {},
     "output_type": "display_data"
    }
   ],
   "source": [
    "import cv2\n",
    "\n",
    "index = random.randint(0, len(X_train))\n",
    "image = X_train[index].squeeze()\n",
    "plt.figure(figsize=(3,3))\n",
    "print (image.shape)\n",
    "plt.imshow(image)\n",
    "\n",
    "img_grey = preprocess_image(image)\n",
    "plt.figure(figsize=(3,3))\n",
    "print (img_grey.shape)\n",
    "imagegrey = img_grey.squeeze()\n",
    "plt.imshow(imagegrey, cmap=\"gray\")\n",
    "#print(img_grey)\n"
   ]
  },
  {
   "cell_type": "code",
   "execution_count": 7,
   "metadata": {
    "collapsed": true,
    "deletable": true,
    "editable": true
   },
   "outputs": [],
   "source": [
    "### Preprocess the data here. Preprocessing steps could include normalization, converting to grayscale, etc.\n",
    "### Feel free to use as many code cells as needed.\n",
    "\n",
    "import cv2\n",
    "import numpy as np\n",
    "\n",
    "def augment_brightness(image):\n",
    "    image1 = cv2.cvtColor(image,cv2.COLOR_RGB2HSV)\n",
    "    image1 = np.array(image1, dtype = np.float64)\n",
    "    random_bright = 0.5 + np.random.uniform()\n",
    "    image1[:,:,2] = image1[:,:,2]*random_bright\n",
    "    image1[:,:,2][image1[:,:,2]>255]  = 255\n",
    "    image1 = np.array(image1, dtype = np.uint8)\n",
    "    image1 = cv2.cvtColor(image1,cv2.COLOR_HSV2RGB)\n",
    "\n",
    "    return image1\n",
    "\n",
    "def transform_image(image,angle,shear,translation):\n",
    "\n",
    "    # Rotation\n",
    "    ang_rot = np.random.uniform(angle)-angle/2\n",
    "    #rows,cols,ch = image.shape    \n",
    "    rows,cols,ch = image.shape\n",
    "    Rot_M = cv2.getRotationMatrix2D((cols/2,rows/2),ang_rot,1)\n",
    "\n",
    "    # Translation\n",
    "    tr_x = translation*np.random.uniform()-translation/2\n",
    "    tr_y = translation*np.random.uniform()-translation/2\n",
    "    Trans_M = np.float32([[1,0,tr_x],[0,1,tr_y]])\n",
    "\n",
    "    # Shear\n",
    "    pts1 = np.float32([[5,5],[20,5],[5,20]])\n",
    "\n",
    "    pt1 = 5+shear*np.random.uniform()-shear/2\n",
    "    pt2 = 20+shear*np.random.uniform()-shear/2\n",
    "\n",
    "    pts2 = np.float32([[pt1,5],[pt2,pt1],[5,pt2]])\n",
    "\n",
    "    shear_M = cv2.getAffineTransform(pts1,pts2)\n",
    "        \n",
    "    image = cv2.warpAffine(image,Rot_M,(cols,rows))\n",
    "    image = cv2.warpAffine(image,Trans_M,(cols,rows))\n",
    "    image = cv2.warpAffine(image,shear_M,(cols,rows))\n",
    "    \n",
    "    #Brightness augmentation\n",
    "    image = augment_brightness(image)\n",
    "    \n",
    "    return image\n",
    "\n",
    "# Preprocessing \n",
    "def augument_image_dataset(image):\n",
    "    return transform_image(image,5,5,5)"
   ]
  },
  {
   "cell_type": "code",
   "execution_count": 8,
   "metadata": {
    "collapsed": false
   },
   "outputs": [],
   "source": [
    "import os\n",
    "import pickle\n",
    "\n",
    "def save_pickle(pickle_file,trainset,labelset):\n",
    "    if not os.path.isfile(pickle_file):\n",
    "        print('Saving data to pickle file',pickle_file,'...')\n",
    "        try:\n",
    "            with open(pickle_file, 'wb') as pfile:\n",
    "                pickle.dump(\n",
    "                    {\n",
    "                        'train_dataset': trainset,\n",
    "                        'train_labels': labelset,\n",
    "                    },\n",
    "                    pfile, pickle.HIGHEST_PROTOCOL)\n",
    "        except Exception as e:\n",
    "            print('Unable to save data to', pickle_file, ':', e)\n",
    "            raise\n",
    "\n",
    "    print('Data cached in pickle file.')\n",
    "    return"
   ]
  },
  {
   "cell_type": "code",
   "execution_count": 9,
   "metadata": {
    "collapsed": true
   },
   "outputs": [],
   "source": [
    "def append_pickle(pickle_file,trainset,labelset):\n",
    "    #if not os.path.isfile(pickle_file):\n",
    "    print('appending data to pickle file',pickle_file,'...')\n",
    "    try:\n",
    "        with open(pickle_file, 'ab') as pfile:\n",
    "            pickle.dump(\n",
    "                {\n",
    "                    'train_dataset': trainset,\n",
    "                    'train_labels': labelset,\n",
    "                },\n",
    "                pfile, pickle.HIGHEST_PROTOCOL)\n",
    "    except Exception as e:\n",
    "        print('Unable to save data to', pickle_file, ':', e)\n",
    "        raise\n",
    "\n",
    "    return"
   ]
  },
  {
   "cell_type": "code",
   "execution_count": 10,
   "metadata": {
    "collapsed": false
   },
   "outputs": [
    {
     "name": "stdout",
     "output_type": "stream",
     "text": [
      "Saving data to pickle file train0.pickle ...\n",
      "Data cached in pickle file.\n",
      "Saving data to pickle file train1.pickle ...\n",
      "Data cached in pickle file.\n",
      "Saving data to pickle file train2.pickle ...\n",
      "Data cached in pickle file.\n",
      "Saving data to pickle file train3.pickle ...\n",
      "Data cached in pickle file.\n"
     ]
    }
   ],
   "source": [
    "# The inital train data set has more images in one class and few images in another class\n",
    "# Hence the training could be biased to the classes with more images.\n",
    "# Add more images in the class with few original images. \n",
    "# This is done by affine transformation (rotation, shear, translation) of exisitng images \n",
    "# Preprocessing: Convert the existing images with 3 channesl (R,G,B) 32x32x3 to greyscale (32x32x1) and normalize from 0.1 to 0.9\n",
    "\n",
    "# Calculate count of images in each class of the training data set\n",
    "hist1 = [0 for j in range(0,n_classes)]\n",
    "for i in range(1,len(X_train)):        \n",
    "    if (y_train[i] < 43):\n",
    "        hist1[y_train[i]] += 1\n",
    "\n",
    "# Create 4 more data sets with part of the original image set + rest of images got from augumented imageset\n",
    "sets = 4\n",
    "hist_per_label = 800\n",
    "dataset_size = hist_per_label * n_classes\n",
    "mark_train_copy = [0 for j in range(0,len(X_train))]\n",
    "\n",
    "y_temp = np.zeros(dataset_size,int)\n",
    "X_temp = np.zeros((dataset_size,32,32,1))\n",
    "\n",
    "hist_copy_cnt = [0 for j in range(0,n_classes)]\n",
    "hist_aug_cnt  = [0 for j in range(0,n_classes)]\n",
    "hist_loop_aug = [0 for j in range(0,n_classes)]\n",
    "hist_sing_cnt = [0 for j in range(0,n_classes)]\n",
    "\n",
    "hist_copy_i = [0 for j in range(0,n_classes)]\n",
    "hist_aug_i  = [0 for j in range(0,n_classes)]\n",
    "hist_loop_i = [0 for j in range(0,n_classes)]\n",
    "hist_sing_i = [0 for j in range(0,n_classes)]\n",
    "\n",
    "for j in range(0,n_classes):\n",
    "    hist_copy_cnt[j] = int(hist1[j]/sets)\n",
    "    hist_aug_cnt[j] = hist_per_label - hist_copy_cnt[j]\n",
    "    hist_loop_aug[j] = int(hist_aug_cnt[j] / hist_copy_cnt[j])\n",
    "    hist_sing_cnt[j] = hist_per_label - (hist_loop_aug[j] * hist_copy_cnt[j] + hist_copy_cnt[j])\n",
    "\n",
    "for set_cnt in range (0, sets):\n",
    "    hist_copy_i = [0 for j in range(0,n_classes)]\n",
    "    hist_sing_i = [0 for j in range(0,n_classes)]\n",
    "    \n",
    "    image = X_train[0].squeeze()\n",
    "    defaultimg= preprocess_image(image)\n",
    "    \n",
    "    for ctr in range(0,dataset_size):\n",
    "        X_temp[ctr] = defaultimg \n",
    "        y_temp[ctr] = y_train[0]\n",
    "    \n",
    "    ctr = 0\n",
    "    \n",
    "    for i in range(0,len(X_train)):\n",
    "        if ctr <= dataset_size:\n",
    "            c = y_train[i]\n",
    "            if hist_copy_i[c] < hist_copy_cnt[c]:\n",
    "                #Copy from original dataset\n",
    "                if mark_train_copy[i] == 0:\n",
    "                    mark_train_copy[i] = 1\n",
    "                    hist_copy_i[c] = hist_copy_i[c] + 1                    \n",
    "                    \n",
    "                    image = X_train[i].squeeze()\n",
    "                    X_temp[ctr] = preprocess_image(image)\n",
    "                    y_temp[ctr] = y_train[i]\n",
    "                    ctr = ctr + 1\n",
    "                    \n",
    "                    #Augument dataset in loop\n",
    "                    if hist_loop_aug[c] > 0:\n",
    "                        for j in range(0,hist_loop_aug[c]):\n",
    "                            image = X_train[i].squeeze()\n",
    "                            image1 = augument_image_dataset(image)\n",
    "                            X_temp[ctr] = preprocess_image(image1)\n",
    "                            y_temp[ctr] = y_train[i]\n",
    "                            ctr = ctr + 1\n",
    "                    \n",
    "                    #Augument dataset till topup\n",
    "                    if hist_sing_i[c] < hist_sing_cnt[c]:\n",
    "                        hist_sing_i[c] = hist_sing_i[c] + 1\n",
    "                        image = X_train[i].squeeze()\n",
    "                        image1 = augument_image_dataset(image)\n",
    "                        X_temp[ctr] = preprocess_image(image1)\n",
    "                        y_temp[ctr] = y_train[i]\n",
    "                        ctr = ctr + 1\n",
    "                        \n",
    "    #print('ctr',ctr)\n",
    "    #print('X_temp shape',X_temp.shape)\n",
    "    #print('hist after augmentation')\n",
    "    hist1 = [0 for j in range(0,n_classes)]\n",
    "    for i in range(0,len(X_temp)):        \n",
    "        if (y_temp[i] < 43):\n",
    "            hist1[y_temp[i]] += 1\n",
    "    #print (hist1)\n",
    "    \n",
    "    #print('hist_copy_i',hist_copy_cnt)\n",
    "    #print('hist_sing_i',hist_sing_i)\n",
    "    \n",
    "    # save the dataset to pickle files\n",
    "    save_pickle('train'+str(set_cnt)+'.pickle',X_temp,y_temp)\n",
    "\n",
    "X_valid1 = np.zeros((len(X_valid),32,32,1))\n",
    "X_test1 = np.zeros((len(X_test),32,32,1))        \n",
    "\n",
    "# preprocess the validation set\n",
    "for i in range(0,len(X_valid)):\n",
    "    image = X_valid[i].squeeze()\n",
    "    X_valid1[i] = preprocess_image(image)\n",
    "\n",
    "# preprocess the Test set    \n",
    "for i in range(0,len(X_test)):\n",
    "    image = X_test[i].squeeze()\n",
    "    X_test1[i] = preprocess_image(image)"
   ]
  },
  {
   "cell_type": "code",
   "execution_count": 21,
   "metadata": {
    "collapsed": false
   },
   "outputs": [
    {
     "name": "stdout",
     "output_type": "stream",
     "text": [
      "Saving data to pickle file train_original.pickle ...\n",
      "Data cached in pickle file.\n"
     ]
    }
   ],
   "source": [
    "# Preprocess the orginal training set.\n",
    "# Save this in pickle file \n",
    "# This will be used in final rounds of training\n",
    "X_temp = np.zeros((len(X_train),32,32,1))\n",
    "y_temp = np.copy(y_train)\n",
    "for i in range(0,len(X_train)):\n",
    "    image = X_train[i].squeeze()\n",
    "    X_temp[i] = preprocess_image(image)\n",
    "save_pickle('train_original.pickle',X_temp,y_temp)"
   ]
  },
  {
   "cell_type": "code",
   "execution_count": 11,
   "metadata": {
    "collapsed": false
   },
   "outputs": [],
   "source": [
    "# Function to Reload the data from pickle file\n",
    "def reload_pickle(pickle_file):\n",
    "    #pickle_file = 'train1.pickle'\n",
    "    with open(pickle_file, 'rb') as f:\n",
    "      pickle_data = pickle.load(f)\n",
    "      trainset = pickle_data['train_dataset']\n",
    "      labelset = pickle_data['train_labels']\n",
    "      del pickle_data  # Free up memory\n",
    "    print('Data loaded from ', pickle_file)\n",
    "    return trainset,labelset"
   ]
  },
  {
   "cell_type": "markdown",
   "metadata": {
    "deletable": true,
    "editable": true
   },
   "source": [
    "### Model Architecture"
   ]
  },
  {
   "cell_type": "code",
   "execution_count": 12,
   "metadata": {
    "collapsed": false,
    "deletable": true,
    "editable": true
   },
   "outputs": [],
   "source": [
    "### Define your architecture here.\n",
    "### Feel free to use as many code cells as needed.\n",
    "\n",
    "from sklearn.utils import shuffle\n",
    "#X_train2, y_train1 = shuffle(X_train2, y_train1)\n",
    "\n",
    "import tensorflow as tf\n",
    "EPOCHS = 8\n",
    "BATCH_SIZE = 128\n",
    "\n",
    "x = tf.placeholder(tf.float32, (None, 32, 32, 1))\n",
    "y = tf.placeholder(tf.int32, (None))\n",
    "one_hot_y = tf.one_hot(y, 43)"
   ]
  },
  {
   "cell_type": "code",
   "execution_count": 13,
   "metadata": {
    "collapsed": true,
    "deletable": true,
    "editable": true
   },
   "outputs": [],
   "source": [
    "from tensorflow.contrib.layers import flatten\n",
    "\n",
    "rate = 0.0005\n",
    "\n",
    "#logits = LeNet(x)\n",
    "# Arguments used for tf.truncated_normal, randomly defines variables for the weights and biases for each layer\n",
    "mu = 0\n",
    "sigma = 0.1\n",
    "\n",
    "# SOLUTION: Layer 1: Convolutional. Input = 32x32x1. Output = 28x28x6.\n",
    "conv1_W = tf.Variable(tf.truncated_normal(shape=(5, 5, 1, 6), mean = mu, stddev = sigma))\n",
    "conv1_b = tf.Variable(tf.zeros(6))\n",
    "conv1   = tf.nn.conv2d(x, conv1_W, strides=[1, 1, 1, 1], padding='VALID') + conv1_b\n",
    "\n",
    "# SOLUTION: Activation.\n",
    "conv1 = tf.nn.relu(conv1)\n",
    "\n",
    "# SOLUTION: Pooling. Input = 28x28x6. Output = 14x14x6.\n",
    "conv1 = tf.nn.max_pool(conv1, ksize=[1, 2, 2, 1], strides=[1, 2, 2, 1], padding='VALID')\n",
    "\n",
    "# SOLUTION: Layer 2: Convolutional. Output = 10x10x16.\n",
    "conv2_W = tf.Variable(tf.truncated_normal(shape=(5, 5, 6, 16), mean = mu, stddev = sigma))\n",
    "conv2_b = tf.Variable(tf.zeros(16))\n",
    "conv2   = tf.nn.conv2d(conv1, conv2_W, strides=[1, 1, 1, 1], padding='VALID') + conv2_b\n",
    "\n",
    "# SOLUTION: Activation.\n",
    "conv2 = tf.nn.relu(conv2)\n",
    "\n",
    "# SOLUTION: Pooling. Input = 10x10x16. Output = 5x5x16.\n",
    "conv2 = tf.nn.max_pool(conv2, ksize=[1, 2, 2, 1], strides=[1, 2, 2, 1], padding='VALID')\n",
    "\n",
    "# SOLUTION: Flatten. Input = 5x5x16. Output = 400.\n",
    "fc0   = flatten(conv2)\n",
    "\n",
    "# SOLUTION: Layer 3: Fully Connected. Input = 400. Output = 120.\n",
    "fc1_W = tf.Variable(tf.truncated_normal(shape=(400, 120), mean = mu, stddev = sigma))\n",
    "fc1_b = tf.Variable(tf.zeros(120))\n",
    "fc1   = tf.matmul(fc0, fc1_W) + fc1_b\n",
    "\n",
    "# SOLUTION: Activation.\n",
    "fc1    = tf.nn.relu(fc1)\n",
    "\n",
    "# SOLUTION: Layer 4: Fully Connected. Input = 120. Output = 84.\n",
    "fc2_W  = tf.Variable(tf.truncated_normal(shape=(120, 84), mean = mu, stddev = sigma))\n",
    "fc2_b  = tf.Variable(tf.zeros(84))\n",
    "fc2    = tf.matmul(fc1, fc2_W) + fc2_b\n",
    "\n",
    "# SOLUTION: Activation.\n",
    "fc2    = tf.nn.relu(fc2)\n",
    "\n",
    "# SOLUTION: Layer 5: Fully Connected. Input = 84. Output = 43.\n",
    "fc3_W  = tf.Variable(tf.truncated_normal(shape=(84, 43), mean = mu, stddev = sigma))\n",
    "fc3_b  = tf.Variable(tf.zeros(43))\n",
    "logits = tf.matmul(fc2, fc3_W) + fc3_b\n",
    "\n",
    "cross_entropy = tf.nn.softmax_cross_entropy_with_logits(labels = one_hot_y, logits = logits)\n",
    "loss_operation = tf.reduce_mean(cross_entropy)\n",
    "optimizer = tf.train.AdamOptimizer(learning_rate = rate)\n",
    "training_operation = optimizer.minimize(loss_operation)"
   ]
  },
  {
   "cell_type": "markdown",
   "metadata": {
    "deletable": true,
    "editable": true
   },
   "source": [
    "### Train, Validate and Test the Model"
   ]
  },
  {
   "cell_type": "markdown",
   "metadata": {
    "deletable": true,
    "editable": true
   },
   "source": [
    "A validation set can be used to assess how well the model is performing. A low accuracy on the training and validation\n",
    "sets imply underfitting. A high accuracy on the training set but low accuracy on the validation set implies overfitting."
   ]
  },
  {
   "cell_type": "code",
   "execution_count": 14,
   "metadata": {
    "collapsed": true,
    "deletable": true,
    "editable": true
   },
   "outputs": [],
   "source": [
    "### Train your model here.\n",
    "### Calculate and report the accuracy on the training and validation set.\n",
    "### Once a final model architecture is selected, \n",
    "### the accuracy on the test set should be calculated and reported as well.\n",
    "### Feel free to use as many code cells as needed.\n",
    "correct_prediction = tf.equal(tf.argmax(logits, 1), tf.argmax(one_hot_y, 1))\n",
    "accuracy_operation = tf.reduce_mean(tf.cast(correct_prediction, tf.float32))\n",
    "saver = tf.train.Saver()\n",
    "\n",
    "def evaluate(X_data, y_data):\n",
    "    num_examples = len(X_data)\n",
    "    total_accuracy = 0\n",
    "    sess = tf.get_default_session()\n",
    "    for offset in range(0, num_examples, BATCH_SIZE):\n",
    "        batch_x, batch_y = X_data[offset:offset+BATCH_SIZE], y_data[offset:offset+BATCH_SIZE]\n",
    "        accuracy = sess.run(accuracy_operation, feed_dict={x: batch_x, y: batch_y})\n",
    "        total_accuracy += (accuracy * len(batch_x))\n",
    "    return total_accuracy / num_examples"
   ]
  },
  {
   "cell_type": "code",
   "execution_count": 15,
   "metadata": {
    "collapsed": false,
    "deletable": true,
    "editable": true
   },
   "outputs": [
    {
     "name": "stdout",
     "output_type": "stream",
     "text": [
      "Training...\n",
      "\n",
      "EPOCH 1 ... 2017-03-25 17:13:52\n",
      "Data loaded from  train0.pickle\n",
      "Train Accuracy = 0.339 Validation Accuracy = 0.207\n",
      "Data loaded from  train1.pickle\n",
      "Train Accuracy = 0.460 Validation Accuracy = 0.395\n",
      "Data loaded from  train2.pickle\n",
      "Train Accuracy = 0.523 Validation Accuracy = 0.480\n",
      "Data loaded from  train3.pickle\n",
      "Train Accuracy = 0.587 Validation Accuracy = 0.570\n",
      "EPOCH 2 ... 2017-03-25 17:22:53\n",
      "Data loaded from  train0.pickle\n",
      "Train Accuracy = 0.661 Validation Accuracy = 0.591\n",
      "Data loaded from  train1.pickle\n",
      "Train Accuracy = 0.711 Validation Accuracy = 0.650\n",
      "Data loaded from  train2.pickle\n",
      "Train Accuracy = 0.707 Validation Accuracy = 0.656\n",
      "Data loaded from  train3.pickle\n",
      "Train Accuracy = 0.747 Validation Accuracy = 0.724\n",
      "EPOCH 3 ... 2017-03-25 17:31:37\n",
      "Data loaded from  train0.pickle\n",
      "Train Accuracy = 0.767 Validation Accuracy = 0.705\n",
      "Data loaded from  train1.pickle\n",
      "Train Accuracy = 0.773 Validation Accuracy = 0.708\n",
      "Data loaded from  train2.pickle\n",
      "Train Accuracy = 0.806 Validation Accuracy = 0.732\n",
      "Data loaded from  train3.pickle\n",
      "Train Accuracy = 0.804 Validation Accuracy = 0.771\n",
      "EPOCH 4 ... 2017-03-25 17:40:21\n",
      "Data loaded from  train0.pickle\n",
      "Train Accuracy = 0.839 Validation Accuracy = 0.767\n",
      "Data loaded from  train1.pickle\n",
      "Train Accuracy = 0.860 Validation Accuracy = 0.790\n",
      "Data loaded from  train2.pickle\n",
      "Train Accuracy = 0.833 Validation Accuracy = 0.778\n",
      "Data loaded from  train3.pickle\n",
      "Train Accuracy = 0.849 Validation Accuracy = 0.810\n",
      "EPOCH 5 ... 2017-03-25 17:49:26\n",
      "Data loaded from  train0.pickle\n",
      "Train Accuracy = 0.862 Validation Accuracy = 0.794\n",
      "Data loaded from  train1.pickle\n",
      "Train Accuracy = 0.877 Validation Accuracy = 0.788\n",
      "Data loaded from  train2.pickle\n",
      "Train Accuracy = 0.876 Validation Accuracy = 0.806\n",
      "Data loaded from  train3.pickle\n",
      "Train Accuracy = 0.873 Validation Accuracy = 0.836\n",
      "EPOCH 6 ... 2017-03-25 17:58:21\n",
      "Data loaded from  train0.pickle\n",
      "Train Accuracy = 0.890 Validation Accuracy = 0.820\n",
      "Data loaded from  train1.pickle\n",
      "Train Accuracy = 0.896 Validation Accuracy = 0.805\n",
      "Data loaded from  train2.pickle\n",
      "Train Accuracy = 0.889 Validation Accuracy = 0.806\n",
      "Data loaded from  train3.pickle\n",
      "Train Accuracy = 0.894 Validation Accuracy = 0.839\n",
      "EPOCH 7 ... 2017-03-25 18:07:13\n",
      "Data loaded from  train0.pickle\n",
      "Train Accuracy = 0.906 Validation Accuracy = 0.828\n",
      "Data loaded from  train1.pickle\n",
      "Train Accuracy = 0.912 Validation Accuracy = 0.810\n",
      "Data loaded from  train2.pickle\n",
      "Train Accuracy = 0.907 Validation Accuracy = 0.824\n",
      "Data loaded from  train3.pickle\n",
      "Train Accuracy = 0.910 Validation Accuracy = 0.846\n",
      "EPOCH 8 ... 2017-03-25 18:16:00\n",
      "Data loaded from  train0.pickle\n",
      "Train Accuracy = 0.913 Validation Accuracy = 0.835\n",
      "Data loaded from  train1.pickle\n",
      "Train Accuracy = 0.926 Validation Accuracy = 0.816\n",
      "Data loaded from  train2.pickle\n",
      "Train Accuracy = 0.923 Validation Accuracy = 0.835\n",
      "Data loaded from  train3.pickle\n",
      "Train Accuracy = 0.917 Validation Accuracy = 0.861\n",
      "Model saved\n"
     ]
    }
   ],
   "source": [
    "import time\n",
    "import datetime\n",
    "\n",
    "with tf.Session() as sess:\n",
    "    sess.run(tf.global_variables_initializer())\n",
    "    #num_examples = len(X_train2)\n",
    "    print(\"Training...\")\n",
    "    print()\n",
    "    for i in range(EPOCHS):\n",
    "        ts = time.time()\n",
    "        print(\"EPOCH {} ...\".format(i+1),datetime.datetime.fromtimestamp(ts).strftime('%Y-%m-%d %H:%M:%S'))\n",
    "        for j in range (0,sets,1):\n",
    "            X_trainset, y_trainset = reload_pickle('train'+str(j)+'.pickle')\n",
    "            X_trainset, y_trainset = shuffle(X_trainset, y_trainset)\n",
    "            num_examples = len(X_trainset)\n",
    "            for offset in range(0, num_examples, BATCH_SIZE):\n",
    "                end = offset + BATCH_SIZE\n",
    "                batch_x, batch_y = X_trainset[offset:end], y_trainset[offset:end]\n",
    "                sess.run(training_operation, feed_dict={x: batch_x, y: batch_y})\n",
    "            train_accuracy = evaluate(X_trainset, y_trainset)\n",
    "            #print(\"Train Accuracy = {:.3f}\".format(train_accuracy))\n",
    "            validation_accuracy = evaluate(X_valid1, y_valid)\n",
    "            print(\"Train Accuracy = {:.3f}\".format(train_accuracy),\"Validation Accuracy = {:.3f}\".format(validation_accuracy))\n",
    "\n",
    "    saver.save(sess, './lenet')\n",
    "    print(\"Model saved\")"
   ]
  },
  {
   "cell_type": "code",
   "execution_count": 16,
   "metadata": {
    "collapsed": false
   },
   "outputs": [
    {
     "name": "stdout",
     "output_type": "stream",
     "text": [
      "Continue Training...\n",
      "\n",
      "EPOCH 1 ... 2017-03-25 18:26:20\n",
      "Data loaded from  train0.pickle\n",
      "Train Accuracy = 0.927 Validation Accuracy = 0.852\n",
      "Data loaded from  train1.pickle\n",
      "Train Accuracy = 0.932 Validation Accuracy = 0.841\n",
      "Data loaded from  train2.pickle\n",
      "Train Accuracy = 0.932 Validation Accuracy = 0.861\n",
      "Data loaded from  train3.pickle\n",
      "Train Accuracy = 0.924 Validation Accuracy = 0.857\n",
      "EPOCH 2 ... 2017-03-25 18:35:15\n",
      "Data loaded from  train0.pickle\n",
      "Train Accuracy = 0.939 Validation Accuracy = 0.856\n",
      "Data loaded from  train1.pickle\n",
      "Train Accuracy = 0.943 Validation Accuracy = 0.846\n",
      "Data loaded from  train2.pickle\n",
      "Train Accuracy = 0.939 Validation Accuracy = 0.860\n",
      "Data loaded from  train3.pickle\n",
      "Train Accuracy = 0.939 Validation Accuracy = 0.876\n",
      "EPOCH 3 ... 2017-03-25 18:44:01\n",
      "Data loaded from  train0.pickle\n",
      "Train Accuracy = 0.937 Validation Accuracy = 0.860\n",
      "Data loaded from  train1.pickle\n",
      "Train Accuracy = 0.945 Validation Accuracy = 0.854\n",
      "Data loaded from  train2.pickle\n",
      "Train Accuracy = 0.939 Validation Accuracy = 0.860\n",
      "Data loaded from  train3.pickle\n",
      "Train Accuracy = 0.941 Validation Accuracy = 0.876\n",
      "EPOCH 4 ... 2017-03-25 18:52:47\n",
      "Data loaded from  train0.pickle\n",
      "Train Accuracy = 0.946 Validation Accuracy = 0.861\n",
      "Data loaded from  train1.pickle\n",
      "Train Accuracy = 0.949 Validation Accuracy = 0.852\n",
      "Data loaded from  train2.pickle\n",
      "Train Accuracy = 0.951 Validation Accuracy = 0.875\n",
      "Data loaded from  train3.pickle\n",
      "Train Accuracy = 0.945 Validation Accuracy = 0.884\n",
      "EPOCH 5 ... 2017-03-25 19:02:02\n",
      "Data loaded from  train0.pickle\n",
      "Train Accuracy = 0.956 Validation Accuracy = 0.876\n",
      "Data loaded from  train1.pickle\n",
      "Train Accuracy = 0.955 Validation Accuracy = 0.875\n",
      "Data loaded from  train2.pickle\n",
      "Train Accuracy = 0.955 Validation Accuracy = 0.881\n",
      "Data loaded from  train3.pickle\n",
      "Train Accuracy = 0.952 Validation Accuracy = 0.876\n",
      "EPOCH 6 ... 2017-03-25 19:10:47\n",
      "Data loaded from  train0.pickle\n",
      "Train Accuracy = 0.958 Validation Accuracy = 0.880\n",
      "Data loaded from  train1.pickle\n",
      "Train Accuracy = 0.960 Validation Accuracy = 0.873\n",
      "Data loaded from  train2.pickle\n",
      "Train Accuracy = 0.961 Validation Accuracy = 0.888\n",
      "Data loaded from  train3.pickle\n",
      "Train Accuracy = 0.956 Validation Accuracy = 0.889\n",
      "EPOCH 7 ... 2017-03-25 19:19:23\n",
      "Data loaded from  train0.pickle\n",
      "Train Accuracy = 0.959 Validation Accuracy = 0.878\n",
      "Data loaded from  train1.pickle\n",
      "Train Accuracy = 0.961 Validation Accuracy = 0.870\n",
      "Data loaded from  train2.pickle\n",
      "Train Accuracy = 0.961 Validation Accuracy = 0.883\n",
      "Data loaded from  train3.pickle\n",
      "Train Accuracy = 0.961 Validation Accuracy = 0.896\n",
      "EPOCH 8 ... 2017-03-25 19:27:56\n",
      "Data loaded from  train0.pickle\n",
      "Train Accuracy = 0.964 Validation Accuracy = 0.884\n",
      "Data loaded from  train1.pickle\n",
      "Train Accuracy = 0.970 Validation Accuracy = 0.873\n",
      "Data loaded from  train2.pickle\n",
      "Train Accuracy = 0.966 Validation Accuracy = 0.886\n",
      "Data loaded from  train3.pickle\n",
      "Train Accuracy = 0.962 Validation Accuracy = 0.895\n",
      "Model saved\n"
     ]
    }
   ],
   "source": [
    "with tf.Session() as sess:\n",
    "    saver.restore(sess, tf.train.latest_checkpoint('.'))\n",
    "\n",
    "    print(\"Continue Training...\")\n",
    "    print()\n",
    "    for i in range(EPOCHS):\n",
    "        ts = time.time()\n",
    "        print(\"EPOCH {} ...\".format(i+1),datetime.datetime.fromtimestamp(ts).strftime('%Y-%m-%d %H:%M:%S'))\n",
    "        for j in range (0,sets,1):\n",
    "            X_trainset, y_trainset = reload_pickle('train'+str(j)+'.pickle')\n",
    "            X_trainset, y_trainset = shuffle(X_trainset, y_trainset)\n",
    "            num_examples = len(X_trainset)\n",
    "            for offset in range(0, num_examples, BATCH_SIZE):\n",
    "                end = offset + BATCH_SIZE\n",
    "                batch_x, batch_y = X_trainset[offset:end], y_trainset[offset:end]\n",
    "                sess.run(training_operation, feed_dict={x: batch_x, y: batch_y})\n",
    "            train_accuracy = evaluate(X_trainset, y_trainset)\n",
    "            #print(\"Train Accuracy = {:.3f}\".format(train_accuracy))\n",
    "            validation_accuracy = evaluate(X_valid1, y_valid)\n",
    "            print(\"Train Accuracy = {:.3f}\".format(train_accuracy),\"Validation Accuracy = {:.3f}\".format(validation_accuracy))\n",
    "\n",
    "    saver.save(sess, './lenet')\n",
    "    print(\"Model saved\")"
   ]
  },
  {
   "cell_type": "code",
   "execution_count": 17,
   "metadata": {
    "collapsed": false
   },
   "outputs": [
    {
     "name": "stdout",
     "output_type": "stream",
     "text": [
      "Continue Training...\n",
      "\n",
      "EPOCH 1 ... 2017-03-25 19:36:31\n",
      "Data loaded from  train0.pickle\n",
      "Train Accuracy = 0.963 Validation Accuracy = 0.877\n",
      "Data loaded from  train1.pickle\n",
      "Train Accuracy = 0.970 Validation Accuracy = 0.881\n",
      "Data loaded from  train2.pickle\n",
      "Train Accuracy = 0.968 Validation Accuracy = 0.895\n",
      "Data loaded from  train3.pickle\n",
      "Train Accuracy = 0.968 Validation Accuracy = 0.895\n",
      "EPOCH 2 ... 2017-03-25 19:45:23\n",
      "Data loaded from  train0.pickle\n",
      "Train Accuracy = 0.967 Validation Accuracy = 0.889\n",
      "Data loaded from  train1.pickle\n",
      "Train Accuracy = 0.971 Validation Accuracy = 0.894\n",
      "Data loaded from  train2.pickle\n",
      "Train Accuracy = 0.969 Validation Accuracy = 0.893\n",
      "Data loaded from  train3.pickle\n",
      "Train Accuracy = 0.970 Validation Accuracy = 0.909\n",
      "EPOCH 3 ... 2017-03-25 19:53:57\n",
      "Data loaded from  train0.pickle\n",
      "Train Accuracy = 0.969 Validation Accuracy = 0.890\n",
      "Data loaded from  train1.pickle\n",
      "Train Accuracy = 0.976 Validation Accuracy = 0.891\n",
      "Data loaded from  train2.pickle\n",
      "Train Accuracy = 0.971 Validation Accuracy = 0.883\n",
      "Data loaded from  train3.pickle\n",
      "Train Accuracy = 0.970 Validation Accuracy = 0.894\n",
      "EPOCH 4 ... 2017-03-25 20:02:46\n",
      "Data loaded from  train0.pickle\n",
      "Train Accuracy = 0.976 Validation Accuracy = 0.892\n",
      "Data loaded from  train1.pickle\n",
      "Train Accuracy = 0.973 Validation Accuracy = 0.899\n",
      "Data loaded from  train2.pickle\n",
      "Train Accuracy = 0.973 Validation Accuracy = 0.887\n",
      "Data loaded from  train3.pickle\n",
      "Train Accuracy = 0.973 Validation Accuracy = 0.898\n",
      "EPOCH 5 ... 2017-03-25 20:11:21\n",
      "Data loaded from  train0.pickle\n",
      "Train Accuracy = 0.975 Validation Accuracy = 0.899\n",
      "Data loaded from  train1.pickle\n",
      "Train Accuracy = 0.977 Validation Accuracy = 0.906\n",
      "Data loaded from  train2.pickle\n",
      "Train Accuracy = 0.972 Validation Accuracy = 0.887\n",
      "Data loaded from  train3.pickle\n",
      "Train Accuracy = 0.974 Validation Accuracy = 0.898\n",
      "EPOCH 6 ... 2017-03-25 20:19:57\n",
      "Data loaded from  train0.pickle\n",
      "Train Accuracy = 0.975 Validation Accuracy = 0.895\n",
      "Data loaded from  train1.pickle\n",
      "Train Accuracy = 0.976 Validation Accuracy = 0.888\n",
      "Data loaded from  train2.pickle\n",
      "Train Accuracy = 0.973 Validation Accuracy = 0.907\n",
      "Data loaded from  train3.pickle\n",
      "Train Accuracy = 0.976 Validation Accuracy = 0.908\n",
      "EPOCH 7 ... 2017-03-25 20:28:35\n",
      "Data loaded from  train0.pickle\n",
      "Train Accuracy = 0.978 Validation Accuracy = 0.896\n",
      "Data loaded from  train1.pickle\n",
      "Train Accuracy = 0.978 Validation Accuracy = 0.891\n",
      "Data loaded from  train2.pickle\n",
      "Train Accuracy = 0.973 Validation Accuracy = 0.895\n",
      "Data loaded from  train3.pickle\n",
      "Train Accuracy = 0.978 Validation Accuracy = 0.910\n",
      "EPOCH 8 ... 2017-03-25 20:37:12\n",
      "Data loaded from  train0.pickle\n",
      "Train Accuracy = 0.980 Validation Accuracy = 0.908\n",
      "Data loaded from  train1.pickle\n",
      "Train Accuracy = 0.984 Validation Accuracy = 0.903\n",
      "Data loaded from  train2.pickle\n",
      "Train Accuracy = 0.983 Validation Accuracy = 0.899\n",
      "Data loaded from  train3.pickle\n",
      "Train Accuracy = 0.979 Validation Accuracy = 0.907\n",
      "Model saved\n"
     ]
    }
   ],
   "source": [
    "with tf.Session() as sess:\n",
    "    saver.restore(sess, tf.train.latest_checkpoint('.'))\n",
    "\n",
    "    print(\"Continue Training...\")\n",
    "    print()\n",
    "    for i in range(EPOCHS):\n",
    "        ts = time.time()\n",
    "        print(\"EPOCH {} ...\".format(i+1),datetime.datetime.fromtimestamp(ts).strftime('%Y-%m-%d %H:%M:%S'))\n",
    "        for j in range (0,sets,1):\n",
    "            X_trainset, y_trainset = reload_pickle('train'+str(j)+'.pickle')\n",
    "            X_trainset, y_trainset = shuffle(X_trainset, y_trainset)\n",
    "            num_examples = len(X_trainset)\n",
    "            for offset in range(0, num_examples, BATCH_SIZE):\n",
    "                end = offset + BATCH_SIZE\n",
    "                batch_x, batch_y = X_trainset[offset:end], y_trainset[offset:end]\n",
    "                sess.run(training_operation, feed_dict={x: batch_x, y: batch_y})\n",
    "            train_accuracy = evaluate(X_trainset, y_trainset)\n",
    "            #print(\"Train Accuracy = {:.3f}\".format(train_accuracy))\n",
    "            validation_accuracy = evaluate(X_valid1, y_valid)\n",
    "            print(\"Train Accuracy = {:.3f}\".format(train_accuracy),\"Validation Accuracy = {:.3f}\".format(validation_accuracy))\n",
    "\n",
    "    saver.save(sess, './lenet')\n",
    "    print(\"Model saved\")"
   ]
  },
  {
   "cell_type": "code",
   "execution_count": 18,
   "metadata": {
    "collapsed": false
   },
   "outputs": [
    {
     "name": "stdout",
     "output_type": "stream",
     "text": [
      "Continue Training...\n",
      "\n",
      "EPOCH 1 ... 2017-03-25 20:45:45\n",
      "Data loaded from  train0.pickle\n",
      "Train Accuracy = 0.973 Validation Accuracy = 0.891\n",
      "Data loaded from  train1.pickle\n",
      "Train Accuracy = 0.983 Validation Accuracy = 0.901\n",
      "Data loaded from  train2.pickle\n",
      "Train Accuracy = 0.983 Validation Accuracy = 0.907\n",
      "Data loaded from  train3.pickle\n",
      "Train Accuracy = 0.980 Validation Accuracy = 0.904\n",
      "EPOCH 2 ... 2017-03-25 20:54:18\n",
      "Data loaded from  train0.pickle\n",
      "Train Accuracy = 0.983 Validation Accuracy = 0.898\n",
      "Data loaded from  train1.pickle\n",
      "Train Accuracy = 0.985 Validation Accuracy = 0.907\n",
      "Data loaded from  train2.pickle\n",
      "Train Accuracy = 0.980 Validation Accuracy = 0.912\n",
      "Data loaded from  train3.pickle\n",
      "Train Accuracy = 0.979 Validation Accuracy = 0.910\n",
      "EPOCH 3 ... 2017-03-25 21:02:53\n",
      "Data loaded from  train0.pickle\n",
      "Train Accuracy = 0.982 Validation Accuracy = 0.902\n",
      "Data loaded from  train1.pickle\n",
      "Train Accuracy = 0.985 Validation Accuracy = 0.906\n",
      "Data loaded from  train2.pickle\n",
      "Train Accuracy = 0.985 Validation Accuracy = 0.914\n",
      "Data loaded from  train3.pickle\n",
      "Train Accuracy = 0.981 Validation Accuracy = 0.913\n",
      "EPOCH 4 ... 2017-03-25 21:11:28\n",
      "Data loaded from  train0.pickle\n",
      "Train Accuracy = 0.981 Validation Accuracy = 0.905\n",
      "Data loaded from  train1.pickle\n",
      "Train Accuracy = 0.986 Validation Accuracy = 0.909\n",
      "Data loaded from  train2.pickle\n",
      "Train Accuracy = 0.986 Validation Accuracy = 0.917\n",
      "Data loaded from  train3.pickle\n",
      "Train Accuracy = 0.983 Validation Accuracy = 0.907\n",
      "EPOCH 5 ... 2017-03-25 21:20:02\n",
      "Data loaded from  train0.pickle\n",
      "Train Accuracy = 0.984 Validation Accuracy = 0.897\n",
      "Data loaded from  train1.pickle\n",
      "Train Accuracy = 0.988 Validation Accuracy = 0.913\n",
      "Data loaded from  train2.pickle\n",
      "Train Accuracy = 0.987 Validation Accuracy = 0.913\n",
      "Data loaded from  train3.pickle\n",
      "Train Accuracy = 0.978 Validation Accuracy = 0.904\n",
      "EPOCH 6 ... 2017-03-25 21:28:37\n",
      "Data loaded from  train0.pickle\n",
      "Train Accuracy = 0.987 Validation Accuracy = 0.905\n",
      "Data loaded from  train1.pickle\n",
      "Train Accuracy = 0.988 Validation Accuracy = 0.918\n",
      "Data loaded from  train2.pickle\n",
      "Train Accuracy = 0.986 Validation Accuracy = 0.910\n",
      "Data loaded from  train3.pickle\n",
      "Train Accuracy = 0.987 Validation Accuracy = 0.917\n",
      "EPOCH 7 ... 2017-03-25 21:37:12\n",
      "Data loaded from  train0.pickle\n",
      "Train Accuracy = 0.989 Validation Accuracy = 0.912\n",
      "Data loaded from  train1.pickle\n",
      "Train Accuracy = 0.987 Validation Accuracy = 0.916\n",
      "Data loaded from  train2.pickle\n",
      "Train Accuracy = 0.989 Validation Accuracy = 0.916\n",
      "Data loaded from  train3.pickle\n",
      "Train Accuracy = 0.986 Validation Accuracy = 0.919\n",
      "EPOCH 8 ... 2017-03-25 21:45:46\n",
      "Data loaded from  train0.pickle\n",
      "Train Accuracy = 0.990 Validation Accuracy = 0.906\n",
      "Data loaded from  train1.pickle\n",
      "Train Accuracy = 0.989 Validation Accuracy = 0.904\n",
      "Data loaded from  train2.pickle\n",
      "Train Accuracy = 0.989 Validation Accuracy = 0.920\n",
      "Data loaded from  train3.pickle\n",
      "Train Accuracy = 0.985 Validation Accuracy = 0.915\n",
      "Model saved\n"
     ]
    }
   ],
   "source": [
    "with tf.Session() as sess:\n",
    "    saver.restore(sess, tf.train.latest_checkpoint('.'))\n",
    "\n",
    "    print(\"Continue Training...\")\n",
    "    print()\n",
    "    for i in range(EPOCHS):\n",
    "        ts = time.time()\n",
    "        print(\"EPOCH {} ...\".format(i+1),datetime.datetime.fromtimestamp(ts).strftime('%Y-%m-%d %H:%M:%S'))\n",
    "        for j in range (0,sets,1):\n",
    "            X_trainset, y_trainset = reload_pickle('train'+str(j)+'.pickle')\n",
    "            X_trainset, y_trainset = shuffle(X_trainset, y_trainset)\n",
    "            num_examples = len(X_trainset)\n",
    "            for offset in range(0, num_examples, BATCH_SIZE):\n",
    "                end = offset + BATCH_SIZE\n",
    "                batch_x, batch_y = X_trainset[offset:end], y_trainset[offset:end]\n",
    "                sess.run(training_operation, feed_dict={x: batch_x, y: batch_y})\n",
    "            train_accuracy = evaluate(X_trainset, y_trainset)\n",
    "            #print(\"Train Accuracy = {:.3f}\".format(train_accuracy))\n",
    "            validation_accuracy = evaluate(X_valid1, y_valid)\n",
    "            print(\"Train Accuracy = {:.3f}\".format(train_accuracy),\"Validation Accuracy = {:.3f}\".format(validation_accuracy))\n",
    "\n",
    "    saver.save(sess, './lenet')\n",
    "    print(\"Model saved\")"
   ]
  },
  {
   "cell_type": "code",
   "execution_count": 19,
   "metadata": {
    "collapsed": false,
    "deletable": true,
    "editable": true
   },
   "outputs": [
    {
     "name": "stdout",
     "output_type": "stream",
     "text": [
      "Continue Training...\n",
      "\n",
      "EPOCH 1 ... 2017-03-25 21:54:21\n",
      "Data loaded from  train0.pickle\n",
      "Train Accuracy = 0.987 Validation Accuracy = 0.906\n",
      "Data loaded from  train1.pickle\n",
      "Train Accuracy = 0.991 Validation Accuracy = 0.908\n",
      "Data loaded from  train2.pickle\n",
      "Train Accuracy = 0.988 Validation Accuracy = 0.908\n",
      "Data loaded from  train3.pickle\n",
      "Train Accuracy = 0.988 Validation Accuracy = 0.922\n",
      "EPOCH 2 ... 2017-03-25 22:02:56\n",
      "Data loaded from  train0.pickle\n",
      "Train Accuracy = 0.987 Validation Accuracy = 0.909\n",
      "Data loaded from  train1.pickle\n",
      "Train Accuracy = 0.988 Validation Accuracy = 0.906\n",
      "Data loaded from  train2.pickle\n",
      "Train Accuracy = 0.989 Validation Accuracy = 0.916\n",
      "Data loaded from  train3.pickle\n",
      "Train Accuracy = 0.988 Validation Accuracy = 0.916\n",
      "EPOCH 3 ... 2017-03-25 22:11:30\n",
      "Data loaded from  train0.pickle\n",
      "Train Accuracy = 0.991 Validation Accuracy = 0.909\n",
      "Data loaded from  train1.pickle\n",
      "Train Accuracy = 0.990 Validation Accuracy = 0.915\n",
      "Data loaded from  train2.pickle\n",
      "Train Accuracy = 0.991 Validation Accuracy = 0.915\n",
      "Data loaded from  train3.pickle\n",
      "Train Accuracy = 0.988 Validation Accuracy = 0.911\n",
      "EPOCH 4 ... 2017-03-25 22:20:06\n",
      "Data loaded from  train0.pickle\n",
      "Train Accuracy = 0.991 Validation Accuracy = 0.906\n",
      "Data loaded from  train1.pickle\n",
      "Train Accuracy = 0.992 Validation Accuracy = 0.912\n",
      "Data loaded from  train2.pickle\n",
      "Train Accuracy = 0.992 Validation Accuracy = 0.920\n",
      "Data loaded from  train3.pickle\n",
      "Train Accuracy = 0.990 Validation Accuracy = 0.913\n",
      "EPOCH 5 ... 2017-03-25 22:28:39\n",
      "Data loaded from  train0.pickle\n",
      "Train Accuracy = 0.990 Validation Accuracy = 0.909\n",
      "Data loaded from  train1.pickle\n",
      "Train Accuracy = 0.993 Validation Accuracy = 0.916\n",
      "Data loaded from  train2.pickle\n",
      "Train Accuracy = 0.993 Validation Accuracy = 0.920\n",
      "Data loaded from  train3.pickle\n",
      "Train Accuracy = 0.989 Validation Accuracy = 0.923\n",
      "EPOCH 6 ... 2017-03-25 22:37:14\n",
      "Data loaded from  train0.pickle\n",
      "Train Accuracy = 0.993 Validation Accuracy = 0.913\n",
      "Data loaded from  train1.pickle\n",
      "Train Accuracy = 0.992 Validation Accuracy = 0.908\n",
      "Data loaded from  train2.pickle\n",
      "Train Accuracy = 0.992 Validation Accuracy = 0.926\n",
      "Data loaded from  train3.pickle\n",
      "Train Accuracy = 0.992 Validation Accuracy = 0.920\n",
      "EPOCH 7 ... 2017-03-25 22:45:49\n",
      "Data loaded from  train0.pickle\n",
      "Train Accuracy = 0.992 Validation Accuracy = 0.910\n",
      "Data loaded from  train1.pickle\n",
      "Train Accuracy = 0.990 Validation Accuracy = 0.913\n",
      "Data loaded from  train2.pickle\n",
      "Train Accuracy = 0.992 Validation Accuracy = 0.923\n",
      "Data loaded from  train3.pickle\n",
      "Train Accuracy = 0.992 Validation Accuracy = 0.924\n",
      "EPOCH 8 ... 2017-03-25 22:54:24\n",
      "Data loaded from  train0.pickle\n",
      "Train Accuracy = 0.992 Validation Accuracy = 0.905\n",
      "Data loaded from  train1.pickle\n",
      "Train Accuracy = 0.993 Validation Accuracy = 0.916\n",
      "Data loaded from  train2.pickle\n",
      "Train Accuracy = 0.992 Validation Accuracy = 0.918\n",
      "Data loaded from  train3.pickle\n",
      "Train Accuracy = 0.993 Validation Accuracy = 0.926\n",
      "Model saved\n"
     ]
    }
   ],
   "source": [
    "with tf.Session() as sess:\n",
    "    saver.restore(sess, tf.train.latest_checkpoint('.'))\n",
    "\n",
    "    print(\"Continue Training...\")\n",
    "    print()\n",
    "    for i in range(EPOCHS):\n",
    "        ts = time.time()\n",
    "        print(\"EPOCH {} ...\".format(i+1),datetime.datetime.fromtimestamp(ts).strftime('%Y-%m-%d %H:%M:%S'))\n",
    "        for j in range (0,sets,1):\n",
    "            X_trainset, y_trainset = reload_pickle('train'+str(j)+'.pickle')\n",
    "            X_trainset, y_trainset = shuffle(X_trainset, y_trainset)\n",
    "            num_examples = len(X_trainset)\n",
    "            for offset in range(0, num_examples, BATCH_SIZE):\n",
    "                end = offset + BATCH_SIZE\n",
    "                batch_x, batch_y = X_trainset[offset:end], y_trainset[offset:end]\n",
    "                sess.run(training_operation, feed_dict={x: batch_x, y: batch_y})\n",
    "            train_accuracy = evaluate(X_trainset, y_trainset)\n",
    "            #print(\"Train Accuracy = {:.3f}\".format(train_accuracy))\n",
    "            validation_accuracy = evaluate(X_valid1, y_valid)\n",
    "            print(\"Train Accuracy = {:.3f}\".format(train_accuracy),\"Validation Accuracy = {:.3f}\".format(validation_accuracy))\n",
    "\n",
    "    saver.save(sess, './lenet')\n",
    "    print(\"Model saved\")"
   ]
  },
  {
   "cell_type": "code",
   "execution_count": 20,
   "metadata": {
    "collapsed": false
   },
   "outputs": [
    {
     "name": "stdout",
     "output_type": "stream",
     "text": [
      "Continue Training...EPOCH 40-48:\n",
      "\n",
      "EPOCH 1 ... 2017-03-26 03:03:12\n",
      "Data loaded from  train0.pickle\n",
      "Train Accuracy = 0.993 Validation Accuracy = 0.912\n",
      "Data loaded from  train1.pickle\n",
      "Train Accuracy = 0.994 Validation Accuracy = 0.919\n",
      "Data loaded from  train2.pickle\n",
      "Train Accuracy = 0.993 Validation Accuracy = 0.924\n",
      "Data loaded from  train3.pickle\n",
      "Train Accuracy = 0.992 Validation Accuracy = 0.919\n",
      "EPOCH 2 ... 2017-03-26 03:11:54\n",
      "Data loaded from  train0.pickle\n",
      "Train Accuracy = 0.993 Validation Accuracy = 0.918\n",
      "Data loaded from  train1.pickle\n",
      "Train Accuracy = 0.995 Validation Accuracy = 0.924\n",
      "Data loaded from  train2.pickle\n",
      "Train Accuracy = 0.993 Validation Accuracy = 0.922\n",
      "Data loaded from  train3.pickle\n",
      "Train Accuracy = 0.988 Validation Accuracy = 0.916\n",
      "EPOCH 3 ... 2017-03-26 03:20:49\n",
      "Data loaded from  train0.pickle\n",
      "Train Accuracy = 0.994 Validation Accuracy = 0.915\n",
      "Data loaded from  train1.pickle\n",
      "Train Accuracy = 0.994 Validation Accuracy = 0.918\n",
      "Data loaded from  train2.pickle\n",
      "Train Accuracy = 0.995 Validation Accuracy = 0.931\n",
      "Data loaded from  train3.pickle\n",
      "Train Accuracy = 0.995 Validation Accuracy = 0.919\n",
      "EPOCH 4 ... 2017-03-26 03:29:47\n",
      "Data loaded from  train0.pickle\n",
      "Train Accuracy = 0.992 Validation Accuracy = 0.908\n",
      "Data loaded from  train1.pickle\n",
      "Train Accuracy = 0.994 Validation Accuracy = 0.919\n",
      "Data loaded from  train2.pickle\n",
      "Train Accuracy = 0.995 Validation Accuracy = 0.925\n",
      "Data loaded from  train3.pickle\n",
      "Train Accuracy = 0.994 Validation Accuracy = 0.924\n",
      "EPOCH 5 ... 2017-03-26 03:38:52\n",
      "Data loaded from  train0.pickle\n",
      "Train Accuracy = 0.993 Validation Accuracy = 0.913\n",
      "Data loaded from  train1.pickle\n",
      "Train Accuracy = 0.995 Validation Accuracy = 0.923\n",
      "Data loaded from  train2.pickle\n",
      "Train Accuracy = 0.996 Validation Accuracy = 0.928\n",
      "Data loaded from  train3.pickle\n",
      "Train Accuracy = 0.993 Validation Accuracy = 0.923\n",
      "EPOCH 6 ... 2017-03-26 03:47:52\n",
      "Data loaded from  train0.pickle\n",
      "Train Accuracy = 0.994 Validation Accuracy = 0.915\n",
      "Data loaded from  train1.pickle\n",
      "Train Accuracy = 0.995 Validation Accuracy = 0.918\n",
      "Data loaded from  train2.pickle\n",
      "Train Accuracy = 0.995 Validation Accuracy = 0.922\n",
      "Data loaded from  train3.pickle\n",
      "Train Accuracy = 0.994 Validation Accuracy = 0.929\n",
      "EPOCH 7 ... 2017-03-26 03:56:40\n",
      "Data loaded from  train0.pickle\n",
      "Train Accuracy = 0.995 Validation Accuracy = 0.917\n",
      "Data loaded from  train1.pickle\n",
      "Train Accuracy = 0.995 Validation Accuracy = 0.917\n",
      "Data loaded from  train2.pickle\n",
      "Train Accuracy = 0.995 Validation Accuracy = 0.926\n",
      "Data loaded from  train3.pickle\n",
      "Train Accuracy = 0.995 Validation Accuracy = 0.923\n",
      "EPOCH 8 ... 2017-03-26 04:05:19\n",
      "Data loaded from  train0.pickle\n",
      "Train Accuracy = 0.995 Validation Accuracy = 0.918\n",
      "Data loaded from  train1.pickle\n",
      "Train Accuracy = 0.995 Validation Accuracy = 0.920\n",
      "Data loaded from  train2.pickle\n",
      "Train Accuracy = 0.996 Validation Accuracy = 0.930\n",
      "Data loaded from  train3.pickle\n",
      "Train Accuracy = 0.992 Validation Accuracy = 0.910\n",
      "Model saved\n"
     ]
    }
   ],
   "source": [
    "with tf.Session() as sess:\n",
    "    saver.restore(sess, tf.train.latest_checkpoint('.'))\n",
    "\n",
    "    print(\"Continue Training...EPOCH 40-48:\")\n",
    "    print()\n",
    "    for i in range(EPOCHS):\n",
    "        ts = time.time()\n",
    "        print(\"EPOCH {} ...\".format(i+1),datetime.datetime.fromtimestamp(ts).strftime('%Y-%m-%d %H:%M:%S'))\n",
    "        for j in range (0,sets,1):\n",
    "            X_trainset, y_trainset = reload_pickle('train'+str(j)+'.pickle')\n",
    "            X_trainset, y_trainset = shuffle(X_trainset, y_trainset)\n",
    "            num_examples = len(X_trainset)\n",
    "            for offset in range(0, num_examples, BATCH_SIZE):\n",
    "                end = offset + BATCH_SIZE\n",
    "                batch_x, batch_y = X_trainset[offset:end], y_trainset[offset:end]\n",
    "                sess.run(training_operation, feed_dict={x: batch_x, y: batch_y})\n",
    "            train_accuracy = evaluate(X_trainset, y_trainset)\n",
    "            #print(\"Train Accuracy = {:.3f}\".format(train_accuracy))\n",
    "            validation_accuracy = evaluate(X_valid1, y_valid)\n",
    "            print(\"Train Accuracy = {:.3f}\".format(train_accuracy),\"Validation Accuracy = {:.3f}\".format(validation_accuracy))\n",
    "\n",
    "    saver.save(sess, './lenet')\n",
    "    print(\"Model saved\")"
   ]
  },
  {
   "cell_type": "code",
   "execution_count": 22,
   "metadata": {
    "collapsed": false
   },
   "outputs": [
    {
     "name": "stdout",
     "output_type": "stream",
     "text": [
      "Continue Training...EPOCH 48-54 with original data (no augumentation):\n",
      "\n",
      "EPOCH 1 ... 2017-03-26 04:29:30\n",
      "Data loaded from  train_original.pickle\n",
      "Train Accuracy = 0.998 Validation Accuracy = 0.942\n",
      "EPOCH 2 ... 2017-03-26 04:31:41\n",
      "Data loaded from  train_original.pickle\n",
      "Train Accuracy = 0.999 Validation Accuracy = 0.934\n",
      "EPOCH 3 ... 2017-03-26 04:33:53\n",
      "Data loaded from  train_original.pickle\n",
      "Train Accuracy = 0.999 Validation Accuracy = 0.936\n",
      "EPOCH 4 ... 2017-03-26 04:36:05\n",
      "Data loaded from  train_original.pickle\n",
      "Train Accuracy = 0.999 Validation Accuracy = 0.936\n",
      "EPOCH 5 ... 2017-03-26 04:38:19\n",
      "Data loaded from  train_original.pickle\n",
      "Train Accuracy = 1.000 Validation Accuracy = 0.933\n",
      "EPOCH 6 ... 2017-03-26 04:40:33\n",
      "Data loaded from  train_original.pickle\n",
      "Train Accuracy = 1.000 Validation Accuracy = 0.937\n",
      "EPOCH 7 ... 2017-03-26 04:42:49\n",
      "Data loaded from  train_original.pickle\n",
      "Train Accuracy = 1.000 Validation Accuracy = 0.937\n",
      "EPOCH 8 ... 2017-03-26 04:45:04\n",
      "Data loaded from  train_original.pickle\n",
      "Train Accuracy = 0.996 Validation Accuracy = 0.927\n",
      "Model saved\n"
     ]
    }
   ],
   "source": [
    "with tf.Session() as sess:\n",
    "    saver.restore(sess, tf.train.latest_checkpoint('.'))\n",
    "\n",
    "    print(\"Continue Training...EPOCH 48-54 with original data (no augumentation):\")\n",
    "    print()\n",
    "    for i in range(EPOCHS):\n",
    "        ts = time.time()\n",
    "        print(\"EPOCH {} ...\".format(i+1),datetime.datetime.fromtimestamp(ts).strftime('%Y-%m-%d %H:%M:%S'))\n",
    "        for j in range (0,1,1):\n",
    "            X_trainset, y_trainset = reload_pickle('train_original.pickle')\n",
    "            X_trainset, y_trainset = shuffle(X_trainset, y_trainset)\n",
    "            num_examples = len(X_trainset)\n",
    "            for offset in range(0, num_examples, BATCH_SIZE):\n",
    "                end = offset + BATCH_SIZE\n",
    "                batch_x, batch_y = X_trainset[offset:end], y_trainset[offset:end]\n",
    "                sess.run(training_operation, feed_dict={x: batch_x, y: batch_y})\n",
    "            train_accuracy = evaluate(X_trainset, y_trainset)\n",
    "            #print(\"Train Accuracy = {:.3f}\".format(train_accuracy))\n",
    "            validation_accuracy = evaluate(X_valid1, y_valid)\n",
    "            print(\"Train Accuracy = {:.3f}\".format(train_accuracy),\"Validation Accuracy = {:.3f}\".format(validation_accuracy))\n",
    "\n",
    "    saver.save(sess, './lenet')\n",
    "    print(\"Model saved\")"
   ]
  },
  {
   "cell_type": "markdown",
   "metadata": {
    "deletable": true,
    "editable": true
   },
   "source": [
    "---\n",
    "\n",
    "## Test a Model on Test Set\n",
    "\n",
    "Once you are completely satisfied with your model, evaluate the performance of the model on the test set.\n",
    "\n",
    "Be sure to only do this once!\n",
    "\n",
    "If you were to measure the performance of your trained model on the test set, then improve your model, and then measure the performance of your model on the test set again, that would invalidate your test results. You wouldn't get a true measure of how well your model would perform against real data.\n",
    "\n",
    "You do not need to modify this section."
   ]
  },
  {
   "cell_type": "code",
   "execution_count": 23,
   "metadata": {
    "collapsed": false,
    "deletable": true,
    "editable": true
   },
   "outputs": [
    {
     "name": "stdout",
     "output_type": "stream",
     "text": [
      "Test Accuracy = 0.911\n"
     ]
    }
   ],
   "source": [
    "with tf.Session() as sess:\n",
    "    saver.restore(sess, tf.train.latest_checkpoint('.'))\n",
    "\n",
    "    test_accuracy = evaluate(X_test1, y_test)\n",
    "    print(\"Test Accuracy = {:.3f}\".format(test_accuracy))"
   ]
  },
  {
   "cell_type": "markdown",
   "metadata": {
    "deletable": true,
    "editable": true
   },
   "source": [
    "---\n",
    "\n",
    "## Step 3: Test a Model on New Images\n",
    "\n",
    "To give yourself more insight into how your model is working, download at least five pictures of German traffic signs from the web and use your model to predict the traffic sign type.\n",
    "\n",
    "You may find `signnames.csv` useful as it contains mappings from the class id (integer) to the actual sign name."
   ]
  },
  {
   "cell_type": "markdown",
   "metadata": {
    "deletable": true,
    "editable": true
   },
   "source": [
    "### Load and Output the Images"
   ]
  },
  {
   "cell_type": "code",
   "execution_count": 24,
   "metadata": {
    "collapsed": true,
    "deletable": true,
    "editable": true
   },
   "outputs": [],
   "source": [
    "### Load the images and plot them here.\n",
    "### Feel free to use as many code cells as needed.\n",
    "import matplotlib.pyplot as plt\n",
    "import matplotlib.image as mpimg\n",
    "import tensorflow as tf\n",
    "import numpy as np\n",
    "import os\n",
    "import tensorflow.tensorboard as tensorboard\n",
    "from PIL import Image\n",
    "\n",
    "img_list = os.listdir(\"realtest1/\")\n",
    "\n",
    "features = []\n",
    "labels = []\n",
    "\n",
    "traffic_sign_name = []\n",
    "import csv\n",
    "with open('signnames.csv', 'r') as csvfile:\n",
    "    csvreader = csv.reader(csvfile, delimiter=',', quotechar='|')\n",
    "    for row in csvreader:\n",
    "        if (csvreader.line_num > 1):\n",
    "            traffic_sign_name.append(row)\n",
    "\n",
    "for imagename in img_list:\n",
    "    #print (\"realtest1/\"+imagename)\n",
    "    img = Image.open(\"realtest1/\"+imagename)\n",
    "    img.load()\n",
    "    new_img = img.resize((32,32))\n",
    "    feature1 = np.array(new_img)\n",
    "    features.append(feature1)\n",
    "    labels.append(0)"
   ]
  },
  {
   "cell_type": "code",
   "execution_count": 26,
   "metadata": {
    "collapsed": true
   },
   "outputs": [],
   "source": [
    "features_norm = np.zeros((len(features),32,32,1))\n",
    "for i in range(0,len(features)):\n",
    "    image = features[i].squeeze()\n",
    "    features_norm[i] = preprocess_image(image)"
   ]
  },
  {
   "cell_type": "markdown",
   "metadata": {
    "deletable": true,
    "editable": true
   },
   "source": [
    "### Predict the Sign Type for Each Image"
   ]
  },
  {
   "cell_type": "code",
   "execution_count": 27,
   "metadata": {
    "collapsed": false,
    "deletable": true,
    "editable": true
   },
   "outputs": [],
   "source": [
    "### Run the predictions here and use the model to output the prediction for each image.\n",
    "### Make sure to pre-process the images with the same pre-processing pipeline used earlier.\n",
    "### Feel free to use as many code cells as needed.\n",
    "saver = tf.train.Saver()\n",
    "\n",
    "with tf.Session() as sess:\n",
    "    #loader = tf.train.import_meta_graph('lenet.meta')\n",
    "    #loader.restore(sess, tf.train.latest_checkpoint('./'))\n",
    "    #tensorboard -- './'\n",
    "    saver.restore(sess, tf.train.latest_checkpoint('.'))\n",
    "    softmax = tf.nn.softmax(logits)\n",
    "    result = sess.run(softmax, feed_dict={x:features_norm})\n",
    "    values, indices = tf.nn.top_k(result, 5)\n",
    "    probs = sess.run(values)\n",
    "    predictions = sess.run(indices)\n"
   ]
  },
  {
   "cell_type": "markdown",
   "metadata": {
    "deletable": true,
    "editable": true
   },
   "source": [
    "### Analyze Performance"
   ]
  },
  {
   "cell_type": "code",
   "execution_count": 32,
   "metadata": {
    "collapsed": false,
    "deletable": true,
    "editable": true
   },
   "outputs": [
    {
     "name": "stdout",
     "output_type": "stream",
     "text": [
      "Model predicted 7 out of 7 it is 100.0 % accurate on new images.\n"
     ]
    }
   ],
   "source": [
    "### Calculate the accuracy for these 5 new images. \n",
    "### For example, if the model predicted 1 out of 5 signs correctly, it's 20% accurate on these new images.\n",
    "num_real = 7\n",
    "num_correct = 0\n",
    "actual = [4,17,14,35,13,3,34]\n",
    "for i in range (0,num_real):\n",
    "    if actual[i] == predictions[i][0]:\n",
    "        num_correct = num_correct+1\n",
    "accuracy_real = num_correct/ num_real *100\n",
    "print ('Model predicted', num_correct,'out of', num_real, 'it is',accuracy_real,'% accurate on new images.' )"
   ]
  },
  {
   "cell_type": "markdown",
   "metadata": {
    "deletable": true,
    "editable": true
   },
   "source": [
    "### Output Top 5 Softmax Probabilities For Each Image Found on the Web"
   ]
  },
  {
   "cell_type": "markdown",
   "metadata": {
    "deletable": true,
    "editable": true
   },
   "source": [
    "For each of the new images, print out the model's softmax probabilities to show the **certainty** of the model's predictions (limit the output to the top 5 probabilities for each image). [`tf.nn.top_k`](https://www.tensorflow.org/versions/r0.12/api_docs/python/nn.html#top_k) could prove helpful here. \n",
    "\n",
    "The example below demonstrates how tf.nn.top_k can be used to find the top k predictions for each image.\n",
    "\n",
    "`tf.nn.top_k` will return the values and indices (class ids) of the top k predictions. So if k=3, for each sign, it'll return the 3 largest probabilities (out of a possible 43) and the correspoding class ids.\n",
    "\n",
    "Take this numpy array as an example. The values in the array represent predictions. The array contains softmax probabilities for five candidate images with six possible classes. `tk.nn.top_k` is used to choose the three classes with the highest probability:\n",
    "\n",
    "```\n",
    "# (5, 6) array\n",
    "a = np.array([[ 0.24879643,  0.07032244,  0.12641572,  0.34763842,  0.07893497,\n",
    "         0.12789202],\n",
    "       [ 0.28086119,  0.27569815,  0.08594638,  0.0178669 ,  0.18063401,\n",
    "         0.15899337],\n",
    "       [ 0.26076848,  0.23664738,  0.08020603,  0.07001922,  0.1134371 ,\n",
    "         0.23892179],\n",
    "       [ 0.11943333,  0.29198961,  0.02605103,  0.26234032,  0.1351348 ,\n",
    "         0.16505091],\n",
    "       [ 0.09561176,  0.34396535,  0.0643941 ,  0.16240774,  0.24206137,\n",
    "         0.09155967]])\n",
    "```\n",
    "\n",
    "Running it through `sess.run(tf.nn.top_k(tf.constant(a), k=3))` produces:\n",
    "\n",
    "```\n",
    "TopKV2(values=array([[ 0.34763842,  0.24879643,  0.12789202],\n",
    "       [ 0.28086119,  0.27569815,  0.18063401],\n",
    "       [ 0.26076848,  0.23892179,  0.23664738],\n",
    "       [ 0.29198961,  0.26234032,  0.16505091],\n",
    "       [ 0.34396535,  0.24206137,  0.16240774]]), indices=array([[3, 0, 5],\n",
    "       [0, 1, 4],\n",
    "       [0, 5, 1],\n",
    "       [1, 3, 5],\n",
    "       [1, 4, 3]], dtype=int32))\n",
    "```\n",
    "\n",
    "Looking just at the first row we get `[ 0.34763842,  0.24879643,  0.12789202]`, you can confirm these are the 3 largest probabilities in `a`. You'll also notice `[3, 0, 5]` are the corresponding indices."
   ]
  },
  {
   "cell_type": "code",
   "execution_count": 28,
   "metadata": {
    "collapsed": false,
    "deletable": true,
    "editable": true
   },
   "outputs": [
    {
     "name": "stdout",
     "output_type": "stream",
     "text": [
      "Top 5 Classification:  [[ 4  1  0  8  2]\n",
      " [17  0  1  2  3]\n",
      " [14 33 13  4  2]\n",
      " [35 34 36  3 11]\n",
      " [13 38 10  2 15]\n",
      " [ 3  5 35 10 40]\n",
      " [34 35 38 36  0]]\n",
      "Top 5 Softmax probabilities:  [[  9.99987721e-01   1.21809599e-05   9.96598715e-08   1.98718625e-10\n",
      "    3.85846910e-11]\n",
      " [  1.00000000e+00   0.00000000e+00   0.00000000e+00   0.00000000e+00\n",
      "    0.00000000e+00]\n",
      " [  1.00000000e+00   3.80377874e-22   6.90076840e-23   4.41174467e-26\n",
      "    1.91359028e-26]\n",
      " [  1.00000000e+00   1.64394698e-24   1.93676865e-25   2.35976184e-26\n",
      "    1.25310200e-34]\n",
      " [  1.00000000e+00   5.14997726e-15   3.80358524e-17   4.10844971e-19\n",
      "    1.36811705e-21]\n",
      " [  1.00000000e+00   1.75587793e-08   5.39684235e-11   2.16140647e-12\n",
      "    3.51640673e-13]\n",
      " [  1.00000000e+00   7.89508905e-25   2.23535956e-36   2.86822002e-38\n",
      "    0.00000000e+00]]\n"
     ]
    }
   ],
   "source": [
    "### Print out the top five softmax probabilities for the predictions on the German traffic sign images found on the web. \n",
    "### Feel free to use as many code cells as needed.\n",
    "print(\"Top 5 Classification: \", predictions)\n",
    "print(\"Top 5 Softmax probabilities: \",probs)\n",
    "#print (predictions.shape)"
   ]
  },
  {
   "cell_type": "markdown",
   "metadata": {
    "deletable": true,
    "editable": true
   },
   "source": [
    "---\n",
    "\n",
    "## Step 4: Visualize the Neural Network's State with Test Images\n",
    "\n",
    " This Section is not required to complete but acts as an additional excersise for understaning the output of a neural network's weights. While neural networks can be a great learning device they are often referred to as a black box. We can understand what the weights of a neural network look like better by plotting their feature maps. After successfully training your neural network you can see what it's feature maps look like by plotting the output of the network's weight layers in response to a test stimuli image. From these plotted feature maps, it's possible to see what characteristics of an image the network finds interesting. For a sign, maybe the inner network feature maps react with high activation to the sign's boundary outline or to the contrast in the sign's painted symbol.\n",
    "\n",
    " Provided for you below is the function code that allows you to get the visualization output of any tensorflow weight layer you want. The inputs to the function should be a stimuli image, one used during training or a new one you provided, and then the tensorflow variable name that represents the layer's state during the training process, for instance if you wanted to see what the [LeNet lab's](https://classroom.udacity.com/nanodegrees/nd013/parts/fbf77062-5703-404e-b60c-95b78b2f3f9e/modules/6df7ae49-c61c-4bb2-a23e-6527e69209ec/lessons/601ae704-1035-4287-8b11-e2c2716217ad/concepts/d4aca031-508f-4e0b-b493-e7b706120f81) feature maps looked like for it's second convolutional layer you could enter conv2 as the tf_activation variable.\n",
    "\n",
    "For an example of what feature map outputs look like, check out NVIDIA's results in their paper [End-to-End Deep Learning for Self-Driving Cars](https://devblogs.nvidia.com/parallelforall/deep-learning-self-driving-cars/) in the section Visualization of internal CNN State. NVIDIA was able to show that their network's inner weights had high activations to road boundary lines by comparing feature maps from an image with a clear path to one without. Try experimenting with a similar test to show that your trained network's weights are looking for interesting features, whether it's looking at differences in feature maps from images with or without a sign, or even what feature maps look like in a trained network vs a completely untrained one on the same sign image.\n",
    "\n",
    "<figure>\n",
    " <img src=\"visualize_cnn.png\" width=\"380\" alt=\"Combined Image\" />\n",
    " <figcaption>\n",
    " <p></p> \n",
    " <p style=\"text-align: center;\"> Your output should look something like this (above)</p> \n",
    " </figcaption>\n",
    "</figure>\n",
    " <p></p> \n"
   ]
  },
  {
   "cell_type": "code",
   "execution_count": 29,
   "metadata": {
    "collapsed": true,
    "deletable": true,
    "editable": true
   },
   "outputs": [],
   "source": [
    "### Visualize your network's feature maps here.\n",
    "### Feel free to use as many code cells as needed.\n",
    "\n",
    "# image_input: the test image being fed into the network to produce the feature maps\n",
    "# tf_activation: should be a tf variable name used during your training procedure that represents the calculated state of a specific weight layer\n",
    "# activation_min/max: can be used to view the activation contrast in more detail, by default matplot sets min and max to the actual min and max values of the output\n",
    "# plt_num: used to plot out multiple different weight feature map sets on the same block, just extend the plt number for each new feature map entry\n",
    "\n",
    "def outputFeatureMap(image_input, im_index, tf_activation, activation_min=-1, activation_max=-1 ,plt_num=1):\n",
    "    # Here make sure to preprocess your image_input in a way your network expects\n",
    "    # with size, normalization, ect if needed\n",
    "    # image_input =\n",
    "    # Note: x should be the same name as your network's tensorflow data placeholder variable\n",
    "    # If you get an error tf_activation is not defined it maybe having trouble accessing the variable from inside a function\n",
    "    activation = tf_activation.eval(session=sess,feed_dict={x : image_input})\n",
    "    featuremaps = activation.shape[3]\n",
    "    plt.figure(plt_num, figsize=(15,15))\n",
    "    for featuremap in range(featuremaps):\n",
    "        plt.subplot(6,8, featuremap+1) # sets the number of feature maps to show on each row and column\n",
    "        plt.title('FeatureMap ' + str(featuremap)) # displays the feature map number\n",
    "        if activation_min != -1 & activation_max != -1:\n",
    "            plt.imshow(activation[im_index,:,:, featuremap], interpolation=\"nearest\", vmin =activation_min, vmax=activation_max, cmap=\"gray\")\n",
    "        elif activation_max != -1:\n",
    "            plt.imshow(activation[im_index,:,:, featuremap], interpolation=\"nearest\", vmax=activation_max, cmap=\"gray\")\n",
    "        elif activation_min !=-1:\n",
    "            plt.imshow(activation[im_index,:,:, featuremap], interpolation=\"nearest\", vmin=activation_min, cmap=\"gray\")\n",
    "        else:\n",
    "            plt.imshow(activation[im_index,:,:, featuremap], interpolation=\"nearest\", cmap=\"gray\")"
   ]
  },
  {
   "cell_type": "code",
   "execution_count": 31,
   "metadata": {
    "collapsed": false,
    "deletable": true,
    "editable": true
   },
   "outputs": [
    {
     "name": "stdout",
     "output_type": "stream",
     "text": [
      "['4', 'Speed limit (70km/h)']\n"
     ]
    },
    {
     "data": {
      "image/png": "[encoded data removed]",
      "text/plain": [
       "<matplotlib.figure.Figure at 0x7fca4d0ec1d0>"
      ]
     },
     "metadata": {},
     "output_type": "display_data"
    },
    {
     "name": "stdout",
     "output_type": "stream",
     "text": [
      "['17', 'No entry']\n"
     ]
    },
    {
     "data": {
      "image/png": "[encoded data removed]",
      "text/plain": [
       "<matplotlib.figure.Figure at 0x7fca4cf3d400>"
      ]
     },
     "metadata": {},
     "output_type": "display_data"
    },
    {
     "name": "stdout",
     "output_type": "stream",
     "text": [
      "['14', 'Stop']\n"
     ]
    },
    {
     "data": {
      "image/png": "[encoded data removed]",
      "text/plain": [
       "<matplotlib.figure.Figure at 0x7fca4d0a7208>"
      ]
     },
     "metadata": {},
     "output_type": "display_data"
    },
    {
     "name": "stdout",
     "output_type": "stream",
     "text": [
      "['35', 'Ahead only']\n"
     ]
    },
    {
     "data": {
      "image/png": "[encoded data removed]",
      "text/plain": [
       "<matplotlib.figure.Figure at 0x7fca4cd35320>"
      ]
     },
     "metadata": {},
     "output_type": "display_data"
    },
    {
     "name": "stdout",
     "output_type": "stream",
     "text": [
      "['13', 'Yield']\n"
     ]
    },
    {
     "data": {
      "image/png": "[encoded data removed]",
      "text/plain": [
       "<matplotlib.figure.Figure at 0x7fca4cccd8d0>"
      ]
     },
     "metadata": {},
     "output_type": "display_data"
    },
    {
     "name": "stdout",
     "output_type": "stream",
     "text": [
      "['3', 'Speed limit (60km/h)']\n"
     ]
    },
    {
     "data": {
      "image/png": "[encoded data removed]",
      "text/plain": [
       "<matplotlib.figure.Figure at 0x7fca4cde5c50>"
      ]
     },
     "metadata": {},
     "output_type": "display_data"
    },
    {
     "name": "stdout",
     "output_type": "stream",
     "text": [
      "['34', 'Turn left ahead']\n"
     ]
    },
    {
     "data": {
      "image/png": "[encoded data removed]",
      "text/plain": [
       "<matplotlib.figure.Figure at 0x7fca4d10d128>"
      ]
     },
     "metadata": {},
     "output_type": "display_data"
    }
   ],
   "source": [
    "\n",
    "\n",
    "with tf.Session() as sess:\n",
    "    saver.restore(sess, tf.train.latest_checkpoint('.'))\n",
    "    sign_index = [0 for i in range(0,7)]\n",
    "    for i in range(0,7,1):\n",
    "        sign_index[i] = predictions[i][0]\n",
    "        print(traffic_sign_name[sign_index[i]])\n",
    "        #print(conv1)\n",
    "        #outputFeatureMap(features_norm, i, conv1, activation_min=-1, activation_max=-1 ,plt_num=i*2+1)\n",
    "        outputFeatureMap(features_norm, i, conv1, activation_min=-1, activation_max=-1 ,plt_num=i+1)\n",
    "        plt.subplot(6,8, 7)\n",
    "        plt.imshow(features[i])\n",
    "        #outputFeatureMap(features, i, conv2, activation_min=-1, activation_max=-1 ,plt_num=i*2+2)\n",
    "        plt.show()"
   ]
  },
  {
   "cell_type": "markdown",
   "metadata": {
    "deletable": true,
    "editable": true
   },
   "source": [
    "### Question 9\n",
    "\n",
    "Discuss how you used the visual output of your trained network's feature maps to show that it had learned to look for interesting characteristics in traffic sign images\n"
   ]
  },
  {
   "cell_type": "markdown",
   "metadata": {
    "deletable": true,
    "editable": true
   },
   "source": [
    "**Answer:**\n",
    "\n",
    "When the training accuracy is less the feature maps have more blank cells (black pixels), but as the training accuracy increases we are able to see the feature map image is almost resembling the actual images. \n",
    "\n",
    "This shows that the weights and biases are appropriate to retain the features essential for classification."
   ]
  },
  {
   "cell_type": "markdown",
   "metadata": {
    "deletable": true,
    "editable": true
   },
   "source": [
    "> **Note**: Once you have completed all of the code implementations and successfully answered each question above, you may finalize your work by exporting the iPython Notebook as an HTML document. You can do this by using the menu above and navigating to  \\n\",\n",
    "    \"**File -> Download as -> HTML (.html)**. Include the finished document along with this notebook as your submission."
   ]
  },
  {
   "cell_type": "markdown",
   "metadata": {
    "deletable": true,
    "editable": true
   },
   "source": [
    "### Project Writeup\n",
    "\n",
    "Once you have completed the code implementation, document your results in a project writeup using this [template](https://github.com/udacity/CarND-Traffic-Sign-Classifier-Project/blob/master/writeup_template.md) as a guide. The writeup can be in a markdown or pdf file. "
   ]
  }
 ],
 "metadata": {
  "anaconda-cloud": {},
  "kernelspec": {
   "display_name": "Python 3",
   "language": "python",
   "name": "python3"
  },
  "language_info": {
   "codemirror_mode": {
    "name": "ipython",
    "version": 3
   },
   "file_extension": ".py",
   "mimetype": "text/x-python",
   "name": "python",
   "nbconvert_exporter": "python",
   "pygments_lexer": "ipython3",
   "version": "3.5.2"
  },
  "widgets": {
   "state": {},
   "version": "1.1.2"
  }
 },
 "nbformat": 4,
 "nbformat_minor": 1
}
